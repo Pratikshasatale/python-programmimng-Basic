{
 "cells": [
  {
   "cell_type": "code",
   "execution_count": 10,
   "metadata": {},
   "outputs": [
    {
     "name": "stdout",
     "output_type": "stream",
     "text": [
      " Please Enter the First Value a: 15\n",
      " Please Enter the Second Value b: 20\n",
      "lcm is 60\n"
     ]
    }
   ],
   "source": [
    "#Write a Python Program to Find LCM?\n",
    "\n",
    "a = int(input(\" Please Enter the First Value a: \"))\n",
    "b = int(input(\" Please Enter the Second Value b: \"))\n",
    "\n",
    "if(a > b):\n",
    "    maximum = a\n",
    "else:\n",
    "    maximum = b\n",
    "\n",
    "while(True):\n",
    "    if(maximum % a == 0 and maximum % b == 0):\n",
    "        print(\"lcm is\", int(maximum))\n",
    "        break;\n",
    "    maximum = maximum + 1"
   ]
  },
  {
   "cell_type": "code",
   "execution_count": 14,
   "metadata": {},
   "outputs": [
    {
     "name": "stdout",
     "output_type": "stream",
     "text": [
      "Enter first number: 15\n",
      "Enter second number: 20\n",
      "The H.C.F. is  5\n"
     ]
    }
   ],
   "source": [
    "#Write a Python Program to Find HCF?\n",
    "\n",
    "x = int(input(\"Enter first number: \"))  \n",
    "y = int(input(\"Enter second number: \"))  \n",
    "if x > y:  \n",
    "    smaller = y  \n",
    "else:  \n",
    "    smaller = x  \n",
    "for i in range(1,smaller + 1):  \n",
    "    if((x % i == 0) and (y % i == 0)):  \n",
    "        hcf = i  \n",
    "\n",
    "print(\"The H.C.F. is \",hcf)  "
   ]
  },
  {
   "cell_type": "code",
   "execution_count": 20,
   "metadata": {},
   "outputs": [
    {
     "name": "stdout",
     "output_type": "stream",
     "text": [
      "enter value 356\n",
      "The decimal value of 356 is:\n",
      "0b101100100 in binary.\n",
      "0o544 in octal.\n",
      "0x164 in hexadecimal.\n"
     ]
    }
   ],
   "source": [
    "#Write a Python Program to Convert Decimal to Binary, Octal and Hexadecimal?\n",
    "\n",
    "dec = int(input(\"enter value \"))\n",
    "print(\"The decimal value of\", dec, \"is:\")\n",
    "print(bin(dec), \"in binary.\")\n",
    "print(oct(dec), \"in octal.\")\n",
    "print(hex(dec), \"in hexadecimal.\")"
   ]
  },
  {
   "cell_type": "code",
   "execution_count": 29,
   "metadata": {},
   "outputs": [
    {
     "name": "stdout",
     "output_type": "stream",
     "text": [
      "Enter character Z\n",
      "The ASCII value of 'Z' is 90\n"
     ]
    }
   ],
   "source": [
    "#Write a Python Program To Find ASCII value of a character?\n",
    "c = str(input(\"Enter character \"))\n",
    "print(\"The ASCII value of '\" + c + \"' is\", ord(c))"
   ]
  },
  {
   "cell_type": "code",
   "execution_count": 6,
   "metadata": {},
   "outputs": [
    {
     "name": "stdout",
     "output_type": "stream",
     "text": [
      "Type in the math operation you would like to complete:\n",
      "+ for addition\n",
      "- for subtraction\n",
      "* for multiplication\n",
      "/ for division\n",
      "/\n",
      "Enter your first number: 52\n",
      "Enter your second number: 13\n",
      "52 / 13 = \n",
      "4.0\n"
     ]
    }
   ],
   "source": [
    "#Write a Python Program to Make a Simple Calculator with 4 basic mathematical operations?\n",
    "\n",
    "operation = input('''Type in the math operation you would like to complete:\n",
    "+ for addition\n",
    "- for subtraction\n",
    "* for multiplication\n",
    "/ for division\n",
    "''')\n",
    "n1 = int(input('Enter your first number: '))\n",
    "n2 = int(input('Enter your second number: '))\n",
    "\n",
    "if operation == '+':\n",
    "    print('{} + {} = '.format(n1, n2))\n",
    "    print(n1 + n2)\n",
    "\n",
    "elif operation == '-':\n",
    "    print('{} - {} = '.format(n1, n2))\n",
    "    print(n1 - n2)\n",
    "\n",
    "elif operation == '*':\n",
    "    print('{} * {} = '.format(n1, n2))\n",
    "    print(n1 * n2)\n",
    "\n",
    "elif operation == '/':\n",
    "    print('{} / {} = '.format(n1, n2))\n",
    "    print(n1 / n2)\n",
    "\n",
    "else:\n",
    "    print('You have not typed a valid operator, please run the program again.')"
   ]
  },
  {
   "cell_type": "code",
   "execution_count": null,
   "metadata": {},
   "outputs": [],
   "source": []
  }
 ],
 "metadata": {
  "kernelspec": {
   "display_name": "Python 3",
   "language": "python",
   "name": "python3"
  },
  "language_info": {
   "codemirror_mode": {
    "name": "ipython",
    "version": 3
   },
   "file_extension": ".py",
   "mimetype": "text/x-python",
   "name": "python",
   "nbconvert_exporter": "python",
   "pygments_lexer": "ipython3",
   "version": "3.7.3"
  }
 },
 "nbformat": 4,
 "nbformat_minor": 2
}
